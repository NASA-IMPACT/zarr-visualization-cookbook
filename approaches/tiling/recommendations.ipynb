{
 "cells": [
  {
   "cell_type": "markdown",
   "id": "91031c40-e298-4ce2-af83-636aef92d9c2",
   "metadata": {},
   "source": [
    "Given the current performance of titiler-xarray in [tile-server-e2e-benchmarks.ipynb](./tile-server-e2e-benchmarks.ipynb) and assuming you are targeting ~200ms, it would be suggested to target 8mb or smaller for your chunks.\n",
    "\n",
    "To give a sense of what this means in terms of spatial resolution, assuming you are storing all of your data spatially in a single chunk, depending on your data type you would have the following dimensions of your dataset:"
   ]
  },
  {
   "cell_type": "code",
   "execution_count": 22,
   "id": "6f046a8c-7c6f-4b9e-b0d5-7eb08fc23d6f",
   "metadata": {
    "tags": []
   },
   "outputs": [
    {
     "name": "stdout",
     "output_type": "stream",
     "text": [
      "float16\n",
      "dimensions: 1448.0 latitude x 2896.0 longitude\n",
      "degrees: 0.124 x 0.124\n",
      "meters at the equator: 76.649 x 38.435\n",
      "\n",
      "float32\n",
      "dimensions: 1024.0 latitude x 2048.0 longitude\n",
      "degrees: 0.176 x 0.176\n",
      "meters at the equator: 108.398 x 54.355\n",
      "\n",
      "float64\n",
      "dimensions: 724.0 latitude x 1448.0 longitude\n",
      "degrees: 0.249 x 0.249\n",
      "meters at the equator: 153.299 x 76.87\n",
      "\n"
     ]
    }
   ],
   "source": [
    "import numpy as np\n",
    "datatypes = [\"float16\", \"float32\", \"float64\"]\n",
    "total_global_chunk_size_mb = 8\n",
    "\n",
    "# lon_dim = 2 x lat_dim\n",
    "# total_global_chunk_size_mb = lat_dim x lon_dim x itemsize_mb\n",
    "# total_global_chunk_size_mb = 2 x lat_dim^2 x itemsize_mb\n",
    "# lat_dim = np.sqrt(total_global_chunk_size_mb/2/itemsize_mb) \n",
    "for data_type in datatypes:\n",
    "    dtype = np.dtype(data_type)\n",
    "    itemsize_mb = dtype.itemsize/1024/1024\n",
    "    lat_dim = np.sqrt(total_global_chunk_size_mb/2/itemsize_mb)\n",
    "    lon_dim = lat_dim * 2\n",
    "    print(f\"{dtype}\\ndimensions: {np.round(lat_dim)} latitude x {np.round(lon_dim)} longitude\")\n",
    "    print(f\"degrees: {np.round(180/lat_dim, 3)} x {np.round(360/lon_dim, 3)}\")\n",
    "    print(f\"meters at the equator: {np.round(111000/lat_dim, 3)} x {np.round(111320/lon_dim, 3)}\\n\")"
   ]
  }
 ],
 "metadata": {
  "kernelspec": {
   "display_name": "Python 3 (ipykernel)",
   "language": "python",
   "name": "python3"
  },
  "language_info": {
   "codemirror_mode": {
    "name": "ipython",
    "version": 3
   },
   "file_extension": ".py",
   "mimetype": "text/x-python",
   "name": "python",
   "nbconvert_exporter": "python",
   "pygments_lexer": "ipython3",
   "version": "3.10.12"
  }
 },
 "nbformat": 4,
 "nbformat_minor": 5
}
