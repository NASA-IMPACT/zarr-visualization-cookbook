{
 "cells": [
  {
   "cell_type": "markdown",
   "id": "d4cd1dad-1eaf-4831-8290-e44dae48abcd",
   "metadata": {},
   "source": [
    "# Profiling tiling code for pgSTAC + COG\n",
    "\n",
    "A pgSTAC database stores metadata about CMIP6 COGs on S3. The libraries used were pgstac for reading STAC metadata and rio_tiler's rasterio for reading COGs on S3.\n",
    "\n",
    "In this notebook we load results from https://github.com/developmentseed/tile-benchmarking/blob/main/profiling/profile.ipynb to demonstrate:\n",
    "\n",
    "1. The importance of GDAL variables in performance.\n",
    "2. Variation across tiles is not significant.\n",
    "3. Tiling with pgSTAC + COGs is fast when compared with titiler-xarray tiling of Zarr stores."
   ]
  },
  {
   "cell_type": "code",
   "execution_count": 3,
   "id": "99ad15f9-e012-49b0-85f9-e375e4360d56",
   "metadata": {},
   "outputs": [
    {
     "data": {
      "text/html": [
       "<div>\n",
       "<style scoped>\n",
       "    .dataframe tbody tr th:only-of-type {\n",
       "        vertical-align: middle;\n",
       "    }\n",
       "\n",
       "    .dataframe tbody tr th {\n",
       "        vertical-align: top;\n",
       "    }\n",
       "\n",
       "    .dataframe thead th {\n",
       "        text-align: right;\n",
       "    }\n",
       "</style>\n",
       "<table border=\"1\" class=\"dataframe\">\n",
       "  <thead>\n",
       "    <tr style=\"text-align: right;\">\n",
       "      <th></th>\n",
       "      <th>gdal_vars_set?</th>\n",
       "      <th>tile times</th>\n",
       "      <th>mean total time</th>\n",
       "    </tr>\n",
       "  </thead>\n",
       "  <tbody>\n",
       "    <tr>\n",
       "      <th>0</th>\n",
       "      <td>with_gdal_vars</td>\n",
       "      <td>[63.41, 54.53, 54.46]</td>\n",
       "      <td>57.466667</td>\n",
       "    </tr>\n",
       "    <tr>\n",
       "      <th>1</th>\n",
       "      <td>without_gdal_vars</td>\n",
       "      <td>[14687.78, 30817.34, 17722.72]</td>\n",
       "      <td>21075.946667</td>\n",
       "    </tr>\n",
       "  </tbody>\n",
       "</table>\n",
       "</div>"
      ],
      "text/plain": [
       "      gdal_vars_set?                      tile times  mean total time\n",
       "0     with_gdal_vars           [63.41, 54.53, 54.46]        57.466667\n",
       "1  without_gdal_vars  [14687.78, 30817.34, 17722.72]     21075.946667"
      ]
     },
     "execution_count": 3,
     "metadata": {},
     "output_type": "execute_result"
    }
   ],
   "source": [
    "import pandas as pd\n",
    "import hvplot\n",
    "pd.options.plotting.backend = 'holoviews'\n",
    "\n",
    "git_url_path = \"https://raw.githubusercontent.com/developmentseed/tile-benchmarking/feat/fake-data/profiling/results\"\n",
    "pd.read_csv(f\"{git_url_path}/pgstac_cog_gdal_results.csv\")"
   ]
  },
  {
   "cell_type": "markdown",
   "id": "69349b13-26d5-4b0d-bb99-b9caa65e6bb3",
   "metadata": {},
   "source": [
    "We don't need many iterations since the variation is so great. You can see that setting GDAL environment variables makes things at least 100x faster.\n",
    "\n",
    "These GDAL variables are documented here https://developmentseed.org/titiler/advanced/performance_tuning/, but that advice is copied into comments below for ease of reference.\n",
    "\n",
    "By setting the GDAL environment variables we limit the number of total requests to S3.\n",
    "\n",
    "Specifically, these environment variables ensure that:\n",
    "\n",
    "* All of the metadata may be read in 1 request. This is not necessarily true, but more likely since we increase the initial number of GDAL ingested bytes.\n",
    "* There is no superfluous LIST request to account for sidecar files, which don't exist for COGs.\n",
    "* Consecutive range requests are merged into 1 request.\n",
    "* Multiple range requests use the same TCP connection."
   ]
  },
  {
   "cell_type": "markdown",
   "id": "a5245a9d-72de-4e78-86f8-4be327c47571",
   "metadata": {},
   "source": [
    "# Time to create different tiles\n",
    "\n",
    "The difference between different tiles is very small."
   ]
  },
  {
   "cell_type": "code",
   "execution_count": 56,
   "id": "052dddaa-94e4-43f8-9afe-481c6313b91d",
   "metadata": {},
   "outputs": [
    {
     "data": {},
     "metadata": {},
     "output_type": "display_data"
    },
    {
     "data": {
      "application/vnd.holoviews_exec.v0+json": "",
      "text/html": [
       "<div id='1368'>\n",
       "\n",
       "\n",
       "\n",
       "\n",
       "\n",
       "  <div class=\"bk-root\" id=\"b034ee22-a5d0-411e-9c71-38bc550cc6d7\" data-root-id=\"1368\"></div>\n",
       "</div>\n",
       "<script type=\"application/javascript\">(function(root) {\n",
       "  function embed_document(root) {\n",
       "    var docs_json = {\"d8b892df-81b3-4dd9-8837-54e804d5397f\":{\"defs\":[{\"extends\":null,\"module\":null,\"name\":\"ReactiveHTML1\",\"overrides\":[],\"properties\":[]},{\"extends\":null,\"module\":null,\"name\":\"FlexBox1\",\"overrides\":[],\"properties\":[{\"default\":\"flex-start\",\"kind\":null,\"name\":\"align_content\"},{\"default\":\"flex-start\",\"kind\":null,\"name\":\"align_items\"},{\"default\":\"row\",\"kind\":null,\"name\":\"flex_direction\"},{\"default\":\"wrap\",\"kind\":null,\"name\":\"flex_wrap\"},{\"default\":\"flex-start\",\"kind\":null,\"name\":\"justify_content\"}]},{\"extends\":null,\"module\":null,\"name\":\"TemplateActions1\",\"overrides\":[],\"properties\":[{\"default\":0,\"kind\":null,\"name\":\"open_modal\"},{\"default\":0,\"kind\":null,\"name\":\"close_modal\"}]},{\"extends\":null,\"module\":null,\"name\":\"MaterialTemplateActions1\",\"overrides\":[],\"properties\":[{\"default\":0,\"kind\":null,\"name\":\"open_modal\"},{\"default\":0,\"kind\":null,\"name\":\"close_modal\"}]}],\"roots\":{\"references\":[{\"attributes\":{\"end\":11.471428571428572,\"reset_end\":11.471428571428572,\"reset_start\":-0.4714285714285714,\"start\":-0.4714285714285714,\"tags\":[[[\"xyz tile\",\"xyz tile\",null]]]},\"id\":\"1370\",\"type\":\"Range1d\"},{\"attributes\":{\"callback\":null,\"renderers\":[{\"id\":\"1409\"}],\"tags\":[\"hv_created\"],\"tooltips\":[[\"xyz tile\",\"@{xyz_tile}\"],[\"mean total time\",\"@{mean_total_time}\"]]},\"id\":\"1372\",\"type\":\"HoverTool\"},{\"attributes\":{},\"id\":\"1413\",\"type\":\"BasicTickFormatter\"},{\"attributes\":{\"coordinates\":null,\"group\":null,\"text\":\"Mean Time to Tile (ms) by Zoom Level\",\"text_color\":\"black\",\"text_font_size\":\"12pt\"},\"id\":\"1374\",\"type\":\"Title\"},{\"attributes\":{\"coordinates\":null,\"data_source\":{\"id\":\"1403\"},\"glyph\":{\"id\":\"1406\"},\"group\":null,\"hover_glyph\":null,\"muted_glyph\":{\"id\":\"1408\"},\"nonselection_glyph\":{\"id\":\"1407\"},\"selection_glyph\":{\"id\":\"1411\"},\"view\":{\"id\":\"1410\"}},\"id\":\"1409\",\"type\":\"GlyphRenderer\"},{\"attributes\":{\"end\":54.5178,\"reset_end\":54.5178,\"reset_start\":39.892199999999995,\"start\":39.892199999999995,\"tags\":[[[\"mean total time\",\"mean total time\",null]]]},\"id\":\"1371\",\"type\":\"Range1d\"},{\"attributes\":{\"angle\":{\"value\":0.0},\"fill_alpha\":{\"value\":1.0},\"fill_color\":{\"value\":\"#30a2da\"},\"hatch_alpha\":{\"value\":1.0},\"hatch_color\":{\"value\":\"#30a2da\"},\"hatch_scale\":{\"value\":12.0},\"hatch_weight\":{\"value\":1.0},\"line_alpha\":{\"value\":1.0},\"line_cap\":{\"value\":\"butt\"},\"line_color\":{\"value\":\"#30a2da\"},\"line_dash\":{\"value\":[]},\"line_dash_offset\":{\"value\":0},\"line_join\":{\"value\":\"bevel\"},\"line_width\":{\"value\":1},\"marker\":{\"value\":\"circle\"},\"size\":{\"value\":5.477225575051661},\"x\":{\"field\":\"xyz tile\"},\"y\":{\"field\":\"mean total time\"}},\"id\":\"1411\",\"type\":\"Scatter\"},{\"attributes\":{\"fill_color\":{\"value\":\"#30a2da\"},\"hatch_color\":{\"value\":\"#30a2da\"},\"line_color\":{\"value\":\"#30a2da\"},\"size\":{\"value\":5.477225575051661},\"x\":{\"field\":\"xyz tile\"},\"y\":{\"field\":\"mean total time\"}},\"id\":\"1406\",\"type\":\"Scatter\"},{\"attributes\":{\"margin\":[5,5,5,5],\"name\":\"HSpacer02393\",\"sizing_mode\":\"stretch_width\"},\"id\":\"1369\",\"type\":\"Spacer\"},{\"attributes\":{},\"id\":\"1378\",\"type\":\"LinearScale\"},{\"attributes\":{\"source\":{\"id\":\"1403\"}},\"id\":\"1410\",\"type\":\"CDSView\"},{\"attributes\":{\"children\":[{\"id\":\"1369\"},{\"id\":\"1373\"},{\"id\":\"1438\"}],\"margin\":[0,0,0,0],\"name\":\"Row02389\",\"tags\":[\"embedded\"]},\"id\":\"1368\",\"type\":\"Row\"},{\"attributes\":{},\"id\":\"1425\",\"type\":\"UnionRenderers\"},{\"attributes\":{},\"id\":\"1383\",\"type\":\"BasicTicker\"},{\"attributes\":{\"data\":{\"mean total time\":{\"__ndarray__\":\"g8DKoUWmSkAusp3vpwZHQEWLbOf7OUdAEFg5tMjGRkCR7Xw/NY5EQP7UeOkmUUVATDeJQWD1REDD9Shcj7JEQDIIrBxatEVAsp3vp8bbRUDhehSuR8FFQD0K16Nw/UVA\",\"dtype\":\"float64\",\"order\":\"little\",\"shape\":[12]},\"mean_total_time\":{\"__ndarray__\":\"g8DKoUWmSkAusp3vpwZHQEWLbOf7OUdAEFg5tMjGRkCR7Xw/NY5EQP7UeOkmUUVATDeJQWD1REDD9Shcj7JEQDIIrBxatEVAsp3vp8bbRUDhehSuR8FFQD0K16Nw/UVA\",\"dtype\":\"float64\",\"order\":\"little\",\"shape\":[12]},\"xyz tile\":[0,1,2,3,4,5,6,7,8,9,10,11],\"xyz_tile\":[0,1,2,3,4,5,6,7,8,9,10,11]},\"selected\":{\"id\":\"1404\"},\"selection_policy\":{\"id\":\"1425\"}},\"id\":\"1403\",\"type\":\"ColumnDataSource\"},{\"attributes\":{\"below\":[{\"id\":\"1382\"}],\"center\":[{\"id\":\"1385\"},{\"id\":\"1389\"}],\"height\":300,\"left\":[{\"id\":\"1386\"}],\"margin\":[5,5,5,5],\"min_border_bottom\":10,\"min_border_left\":10,\"min_border_right\":10,\"min_border_top\":10,\"renderers\":[{\"id\":\"1409\"}],\"sizing_mode\":\"fixed\",\"title\":{\"id\":\"1374\"},\"toolbar\":{\"id\":\"1396\"},\"width\":700,\"x_range\":{\"id\":\"1370\"},\"x_scale\":{\"id\":\"1378\"},\"y_range\":{\"id\":\"1371\"},\"y_scale\":{\"id\":\"1380\"}},\"id\":\"1373\",\"subtype\":\"Figure\",\"type\":\"Plot\"},{\"attributes\":{},\"id\":\"1417\",\"type\":\"AllLabels\"},{\"attributes\":{},\"id\":\"1380\",\"type\":\"LinearScale\"},{\"attributes\":{\"axis\":{\"id\":\"1382\"},\"coordinates\":null,\"grid_line_color\":null,\"group\":null,\"ticker\":null},\"id\":\"1385\",\"type\":\"Grid\"},{\"attributes\":{\"axis_label\":\"xyz tile\",\"coordinates\":null,\"formatter\":{\"id\":\"1413\"},\"group\":null,\"major_label_policy\":{\"id\":\"1414\"},\"ticker\":{\"id\":\"1383\"}},\"id\":\"1382\",\"type\":\"LinearAxis\"},{\"attributes\":{\"axis\":{\"id\":\"1386\"},\"coordinates\":null,\"dimension\":1,\"grid_line_color\":null,\"group\":null,\"ticker\":null},\"id\":\"1389\",\"type\":\"Grid\"},{\"attributes\":{\"tools\":[{\"id\":\"1372\"},{\"id\":\"1390\"},{\"id\":\"1391\"},{\"id\":\"1392\"},{\"id\":\"1393\"},{\"id\":\"1394\"}]},\"id\":\"1396\",\"type\":\"Toolbar\"},{\"attributes\":{},\"id\":\"1391\",\"type\":\"PanTool\"},{\"attributes\":{},\"id\":\"1414\",\"type\":\"AllLabels\"},{\"attributes\":{\"axis_label\":\"mean total time\",\"coordinates\":null,\"formatter\":{\"id\":\"1416\"},\"group\":null,\"major_label_policy\":{\"id\":\"1417\"},\"ticker\":{\"id\":\"1387\"}},\"id\":\"1386\",\"type\":\"LinearAxis\"},{\"attributes\":{},\"id\":\"1387\",\"type\":\"BasicTicker\"},{\"attributes\":{},\"id\":\"1392\",\"type\":\"WheelZoomTool\"},{\"attributes\":{},\"id\":\"1416\",\"type\":\"BasicTickFormatter\"},{\"attributes\":{},\"id\":\"1390\",\"type\":\"SaveTool\"},{\"attributes\":{\"fill_alpha\":{\"value\":0.1},\"fill_color\":{\"value\":\"#30a2da\"},\"hatch_alpha\":{\"value\":0.1},\"hatch_color\":{\"value\":\"#30a2da\"},\"line_alpha\":{\"value\":0.1},\"line_color\":{\"value\":\"#30a2da\"},\"size\":{\"value\":5.477225575051661},\"x\":{\"field\":\"xyz tile\"},\"y\":{\"field\":\"mean total time\"}},\"id\":\"1407\",\"type\":\"Scatter\"},{\"attributes\":{\"overlay\":{\"id\":\"1395\"}},\"id\":\"1393\",\"type\":\"BoxZoomTool\"},{\"attributes\":{},\"id\":\"1394\",\"type\":\"ResetTool\"},{\"attributes\":{\"bottom_units\":\"screen\",\"coordinates\":null,\"fill_alpha\":0.5,\"fill_color\":\"lightgrey\",\"group\":null,\"left_units\":\"screen\",\"level\":\"overlay\",\"line_alpha\":1.0,\"line_color\":\"black\",\"line_dash\":[4,4],\"line_width\":2,\"right_units\":\"screen\",\"syncable\":false,\"top_units\":\"screen\"},\"id\":\"1395\",\"type\":\"BoxAnnotation\"},{\"attributes\":{},\"id\":\"1404\",\"type\":\"Selection\"},{\"attributes\":{\"margin\":[5,5,5,5],\"name\":\"HSpacer02394\",\"sizing_mode\":\"stretch_width\"},\"id\":\"1438\",\"type\":\"Spacer\"},{\"attributes\":{\"fill_alpha\":{\"value\":0.2},\"fill_color\":{\"value\":\"#30a2da\"},\"hatch_alpha\":{\"value\":0.2},\"hatch_color\":{\"value\":\"#30a2da\"},\"line_alpha\":{\"value\":0.2},\"line_color\":{\"value\":\"#30a2da\"},\"size\":{\"value\":5.477225575051661},\"x\":{\"field\":\"xyz tile\"},\"y\":{\"field\":\"mean total time\"}},\"id\":\"1408\",\"type\":\"Scatter\"}],\"root_ids\":[\"1368\"]},\"title\":\"Bokeh Application\",\"version\":\"2.4.2\"}};\n",
       "    var render_items = [{\"docid\":\"d8b892df-81b3-4dd9-8837-54e804d5397f\",\"root_ids\":[\"1368\"],\"roots\":{\"1368\":\"b034ee22-a5d0-411e-9c71-38bc550cc6d7\"}}];\n",
       "    root.Bokeh.embed.embed_items_notebook(docs_json, render_items);\n",
       "  }\n",
       "  if (root.Bokeh !== undefined && root.Bokeh.Panel !== undefined) {\n",
       "    embed_document(root);\n",
       "  } else {\n",
       "    var attempts = 0;\n",
       "    var timer = setInterval(function(root) {\n",
       "      if (root.Bokeh !== undefined && root.Bokeh.Panel !== undefined) {\n",
       "        clearInterval(timer);\n",
       "        embed_document(root);\n",
       "      } else if (document.readyState == \"complete\") {\n",
       "        attempts++;\n",
       "        if (attempts > 200) {\n",
       "          clearInterval(timer);\n",
       "          console.log(\"Bokeh: ERROR: Unable to run BokehJS code because BokehJS library is missing\");\n",
       "        }\n",
       "      }\n",
       "    }, 25, root)\n",
       "  }\n",
       "})(window);</script>"
      ],
      "text/plain": [
       ":Scatter   [xyz tile]   (mean total time)"
      ]
     },
     "execution_count": 56,
     "metadata": {
      "application/vnd.holoviews_exec.v0+json": {
       "id": "1368"
      }
     },
     "output_type": "execute_result"
    }
   ],
   "source": [
    "df = pd.read_csv(f\"{git_url_path}/pgstac_cog_tile_results.csv\")\n",
    "df.plot.scatter(x='xyz tile', y='mean total time', label = 'Mean Time to Tile (ms) by Zoom Level')"
   ]
  }
 ],
 "metadata": {
  "kernelspec": {
   "display_name": ".venv",
   "language": "python",
   "name": ".venv"
  },
  "language_info": {
   "codemirror_mode": {
    "name": "ipython",
    "version": 3
   },
   "file_extension": ".py",
   "mimetype": "text/x-python",
   "name": "python",
   "nbconvert_exporter": "python",
   "pygments_lexer": "ipython3",
   "version": "3.9.7"
  }
 },
 "nbformat": 4,
 "nbformat_minor": 5
}
